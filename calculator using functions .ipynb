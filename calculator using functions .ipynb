{
 "cells": [
  {
   "cell_type": "code",
   "execution_count": 1,
   "id": "7e19f6aa-ad30-4073-9ef3-e5162f72486f",
   "metadata": {},
   "outputs": [
    {
     "name": "stdout",
     "output_type": "stream",
     "text": [
      "select operations.\n",
      "1.add\n",
      "2.subtract\n",
      "3.multiply\n",
      "4.divide\n"
     ]
    },
    {
     "name": "stdin",
     "output_type": "stream",
     "text": [
      "enter choice(1/2/3/4): 1\n",
      "enter the first number: 4\n",
      "enter the second number: 5\n"
     ]
    },
    {
     "name": "stdout",
     "output_type": "stream",
     "text": [
      "4.0 + 5.0 = 9.0\n"
     ]
    },
    {
     "name": "stdin",
     "output_type": "stream",
     "text": [
      "let's do next calculation? (yes/no): no\n"
     ]
    }
   ],
   "source": [
    "## simple calculator by using functions\n",
    "\n",
    "def add(x, y):\n",
    "    return x + y\n",
    "\n",
    "def sub(x, y):\n",
    "    return x - y\n",
    "\n",
    "def mul(x, y):\n",
    "    return x * y\n",
    "\n",
    "def div(x, y):\n",
    "    return x / y\n",
    "\n",
    "print(\"select operations.\")\n",
    "print(\"1.add\")\n",
    "print(\"2.subtract\")\n",
    "print(\"3.multiply\")\n",
    "print(\"4.divide\")\n",
    "\n",
    "while True:\n",
    "    choice = input(\"enter choice(1/2/3/4):\")\n",
    "    \n",
    "    if choice in ('1', '2', '3', '4'):\n",
    "        try:\n",
    "            num1 = float(input(\"enter the first number:\"))\n",
    "            num2 = float(input(\"enter the second number:\"))\n",
    "        except valueError:\n",
    "            print(\"invalid input. please enter a number.\")\n",
    "            continue\n",
    "\n",
    "        if choice == '1':\n",
    "           print(num1, \"+\", num2, \"=\", add(num1, num2))\n",
    "        elif choice == '2':\n",
    "           print(num1, \"-\", num2, \"=\", sub(num1, num2))\n",
    "        elif choice == '3':\n",
    "           print(num1, \"*\", num2, \"=\", mul(num1, num2))\n",
    "        elif choice == '4':\n",
    "           print(num1, \"/\", num2, \"=\", div(num1,num2))\n",
    "\n",
    "        next_calculation = input(\"let's do next calculation? (yes/no):\")\n",
    "        if next_calculation == \"no\":\n",
    "           break\n",
    "else: \n",
    "    print(\"invalid input\")                 \n",
    "    "
   ]
  },
  {
   "cell_type": "code",
   "execution_count": null,
   "id": "43c4b425-28c1-4c3f-8a71-56e811dc8eac",
   "metadata": {},
   "outputs": [],
   "source": []
  }
 ],
 "metadata": {
  "kernelspec": {
   "display_name": "Python 3 (ipykernel)",
   "language": "python",
   "name": "python3"
  },
  "language_info": {
   "codemirror_mode": {
    "name": "ipython",
    "version": 3
   },
   "file_extension": ".py",
   "mimetype": "text/x-python",
   "name": "python",
   "nbconvert_exporter": "python",
   "pygments_lexer": "ipython3",
   "version": "3.12.7"
  }
 },
 "nbformat": 4,
 "nbformat_minor": 5
}
